{
 "cells": [
  {
   "cell_type": "markdown",
   "id": "106fcc79",
   "metadata": {},
   "source": [
    "Check whether a given string is palindromic using the deque data structure."
   ]
  },
  {
   "cell_type": "code",
   "execution_count": null,
   "id": "c53a8e4e",
   "metadata": {},
   "outputs": [],
   "source": [
    "# Build a deque data type\n",
    "\n",
    "class Deque:\n",
    "\n",
    "    def __init__(self):\n",
    "        self.items = []\n",
    "        \n",
    "    def is_empty(self):\n",
    "        return self.items == []\n",
    "        \n",
    "    # the end of the list is the front of the deque\n",
    "    def add_front(self,item):\n",
    "        self.items.append(item)\n",
    "    def add_rear(self,item):\n",
    "        self.items.insert(0,item)\n",
    "    \n",
    "    # remove elements from both ends\n",
    "    def remove_front(self):\n",
    "        self.items.pop()\n",
    "    def remove_rear(self):\n",
    "        self.items.pop(0)\n",
    "     \n",
    "    # get the size of the list\n",
    "    def size(self):\n",
    "        return len(self.items)"
   ]
  },
  {
   "cell_type": "code",
   "execution_count": null,
   "id": "453a3958",
   "metadata": {},
   "outputs": [],
   "source": [
    "# Check whether a given string is palindromic using Deque\n",
    "\n",
    "def check_palindromic(string):\n",
    "\n",
    "    # Initialize an empty deque\n",
    "    char_deque = Deque()\n",
    "    \n",
    "    # Convert string to deque\n",
    "    for ch in string.lowercase:\n",
    "        char_deque.add_front(ch)\n",
    "        \n",
    "    equal = True\n",
    "    \n",
    "    # Check whether the deque contains same elements at the ends\n",
    "    while char_deque.size() > 1 and equal:\n",
    "        front = char_deque.remove_front()\n",
    "        rear = char_deque.remove_rear()\n",
    "        equal = (front == rear)\n",
    "        \n",
    "    return equal\n",
    "    "
   ]
  },
  {
   "cell_type": "code",
   "execution_count": null,
   "id": "a2e50fdc",
   "metadata": {},
   "outputs": [],
   "source": [
    "check_palindromic(\"david\")"
   ]
  },
  {
   "cell_type": "code",
   "execution_count": null,
   "id": "18c5a7fd",
   "metadata": {},
   "outputs": [],
   "source": [
    "check_palindromic(\"anna\")"
   ]
  }
 ],
 "metadata": {
  "kernelspec": {
   "display_name": "Python 3",
   "language": "python",
   "name": "python3"
  }
 },
 "nbformat": 4,
 "nbformat_minor": 5
}
