{
 "cells": [
  {
   "cell_type": "code",
   "execution_count": 44,
   "id": "5b0c45fc",
   "metadata": {},
   "outputs": [],
   "source": [
    "class Stack:\n",
    "    \n",
    "    \n",
    "    def __init__(self):\n",
    "        self.items = []\n",
    "    \n",
    "    # Check whether the stack is empty    \n",
    "    def is_empty(self):\n",
    "        return self.items == []\n",
    "    \n",
    "    # Add elements to the stack\n",
    "    def add(self,item):\n",
    "        self.items.append(item)\n",
    "    \n",
    "    # Take a peek at the last element in the stack\n",
    "    def peek(self):\n",
    "        assert len(self.items) >= 1, \"Stack is empty!\" \n",
    "        return self.items[-1]\n",
    "        \n",
    "    # Remove elements from the top and return the value\n",
    "    def remove_front(self):\n",
    "        return self.items.pop()\n",
    "    \n",
    "    # Get the size of the list\n",
    "    def size(self):\n",
    "        return len(self.items)"
   ]
  },
  {
   "cell_type": "markdown",
   "id": "6a83806b",
   "metadata": {},
   "source": [
    "- Given a string S of lowercase letters, a duplicate removal consists of choosing two adjacent and equal letters, and removing them.\n",
    "- We repeatedly make duplicate removals on S until we no longer can.\n",
    "- Return the final string after all such duplicate removals have been made. It is guaranteed the answer is unique.\n",
    "- https://leetcode.com/problems/remove-all-adjacent-duplicates-in-string/"
   ]
  },
  {
   "cell_type": "code",
   "execution_count": 45,
   "id": "b3aebda8",
   "metadata": {},
   "outputs": [
    {
     "data": {
      "text/plain": [
       "True"
      ]
     },
     "execution_count": 45,
     "metadata": {},
     "output_type": "execute_result"
    }
   ],
   "source": [
    "stack = Stack()\n",
    "string = \"aabccby\"\n",
    "for letter in string:\n",
    "    stack.add(letter)\n",
    "    stack.peek()\n",
    "stack.size() == len(string)"
   ]
  },
  {
   "cell_type": "code",
   "execution_count": 40,
   "id": "8b4fa1f1",
   "metadata": {},
   "outputs": [],
   "source": [
    "def remove_duplicates(str):\n",
    "    stack = []\n",
    "    for letter in str:\n",
    "            # if stack is not empty and the letters are different,\n",
    "            # pop from the stack\n",
    "            if stack and letter == stack[-1]:\n",
    "                stack.pop()\n",
    "            # if stack is empty or the letters are the same\n",
    "            # add the new letter to the stack\n",
    "            # note that it is important to perform append after checking whether to pop\n",
    "            else:\n",
    "                stack.append(letter)\n",
    "    return \"\".join(stack)\n",
    "        "
   ]
  },
  {
   "cell_type": "code",
   "execution_count": 41,
   "id": "cc312d39",
   "metadata": {},
   "outputs": [
    {
     "data": {
      "text/plain": [
       "'ay'"
      ]
     },
     "execution_count": 41,
     "metadata": {},
     "output_type": "execute_result"
    }
   ],
   "source": [
    "remove_duplicates(\"abccby\")"
   ]
  },
  {
   "cell_type": "markdown",
   "id": "63c887c8",
   "metadata": {},
   "source": [
    "https://medium.com/techie-delight/stack-data-structure-practice-problems-and-interview-questions-9f08a35a7f19"
   ]
  },
  {
   "cell_type": "code",
   "execution_count": null,
   "id": "c46207bc",
   "metadata": {},
   "outputs": [],
   "source": []
  }
 ],
 "metadata": {
  "kernelspec": {
   "display_name": "Python 3",
   "language": "python",
   "name": "python3"
  },
  "language_info": {
   "codemirror_mode": {
    "name": "ipython",
    "version": 3
   },
   "file_extension": ".py",
   "mimetype": "text/x-python",
   "name": "python",
   "nbconvert_exporter": "python",
   "pygments_lexer": "ipython3",
   "version": "3.9.7"
  }
 },
 "nbformat": 4,
 "nbformat_minor": 5
}
