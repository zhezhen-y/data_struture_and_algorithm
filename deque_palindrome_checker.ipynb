{
 "cells": [
  {
   "cell_type": "markdown",
   "id": "106fcc79",
   "metadata": {},
   "source": [
    "Check whether a given string is palindromic using the deque data structure."
   ]
  },
  {
   "cell_type": "code",
   "execution_count": 1,
   "id": "c53a8e4e",
   "metadata": {},
   "outputs": [],
   "source": [
    "# Build a deque data type\n",
    "\n",
    "class Deque:\n",
    "\n",
    "    def __init__(self):\n",
    "        self.items = []\n",
    "        \n",
    "    # Check whether the deque is empty    \n",
    "    def is_empty(self):\n",
    "        return self.items == []\n",
    "        \n",
    "    # Add elements to the deque\n",
    "    def add_front(self,item):\n",
    "        self.items.append(item)\n",
    "    def add_rear(self,item):\n",
    "        self.items.insert(0,item)\n",
    "    \n",
    "    # Remove elements from both ends and return the values\n",
    "    def remove_front(self):\n",
    "        return self.items.pop()\n",
    "    def remove_rear(self):\n",
    "        return self.items.pop(0)\n",
    "     \n",
    "    # Get the size of the list\n",
    "    def size(self):\n",
    "        return len(self.items)"
   ]
  },
  {
   "cell_type": "code",
   "execution_count": 2,
   "id": "453a3958",
   "metadata": {},
   "outputs": [],
   "source": [
    "# Check whether a given string is palindromic using Deque\n",
    "\n",
    "def check_palindrome(string):\n",
    "\n",
    "    # Initialize an empty deque\n",
    "    char_deque = Deque()\n",
    "    \n",
    "    # Convert string to deque\n",
    "    for ch in string.lower():\n",
    "        char_deque.add_rear(ch)\n",
    "        \n",
    "    equal = True\n",
    "    \n",
    "    # Check whether the deque contains same elements at the ends\n",
    "    while char_deque.size() > 1 and equal:\n",
    "        front = char_deque.remove_front()\n",
    "        rear = char_deque.remove_rear()\n",
    "        print(front, rear)\n",
    "        equal = (front == rear)\n",
    "        \n",
    "    return equal\n",
    "    "
   ]
  },
  {
   "cell_type": "code",
   "execution_count": 3,
   "id": "a2e50fdc",
   "metadata": {},
   "outputs": [
    {
     "name": "stdout",
     "output_type": "stream",
     "text": [
      "d d\n",
      "a i\n"
     ]
    },
    {
     "data": {
      "text/plain": [
       "False"
      ]
     },
     "execution_count": 3,
     "metadata": {},
     "output_type": "execute_result"
    }
   ],
   "source": [
    "check_palindrome(\"david\")"
   ]
  },
  {
   "cell_type": "code",
   "execution_count": 4,
   "id": "18c5a7fd",
   "metadata": {},
   "outputs": [
    {
     "name": "stdout",
     "output_type": "stream",
     "text": [
      "a a\n",
      "n n\n"
     ]
    },
    {
     "data": {
      "text/plain": [
       "True"
      ]
     },
     "execution_count": 4,
     "metadata": {},
     "output_type": "execute_result"
    }
   ],
   "source": [
    "check_palindrome(\"anna\")"
   ]
  },
  {
   "cell_type": "code",
   "execution_count": 5,
   "id": "fef7938d",
   "metadata": {},
   "outputs": [
    {
     "name": "stdout",
     "output_type": "stream",
     "text": [
      "p c\n"
     ]
    },
    {
     "data": {
      "text/plain": [
       "False"
      ]
     },
     "execution_count": 5,
     "metadata": {},
     "output_type": "execute_result"
    }
   ],
   "source": [
    "check_palindrome(\"palindromic\")"
   ]
  },
  {
   "cell_type": "code",
   "execution_count": 6,
   "id": "d52543e9",
   "metadata": {},
   "outputs": [
    {
     "name": "stdout",
     "output_type": "stream",
     "text": [
      "r r\n",
      "o o\n",
      "t t\n"
     ]
    },
    {
     "data": {
      "text/plain": [
       "True"
      ]
     },
     "execution_count": 6,
     "metadata": {},
     "output_type": "execute_result"
    }
   ],
   "source": [
    "check_palindrome(\"rotator\")"
   ]
  }
 ],
 "metadata": {
  "kernelspec": {
   "display_name": "Python 3",
   "language": "python",
   "name": "python3"
  },
  "language_info": {
   "codemirror_mode": {
    "name": "ipython",
    "version": 3
   },
   "file_extension": ".py",
   "mimetype": "text/x-python",
   "name": "python",
   "nbconvert_exporter": "python",
   "pygments_lexer": "ipython3",
   "version": "3.9.7"
  }
 },
 "nbformat": 4,
 "nbformat_minor": 5
}
